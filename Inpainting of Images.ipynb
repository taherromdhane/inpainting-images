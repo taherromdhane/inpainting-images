{
 "cells": [
  {
   "cell_type": "markdown",
   "metadata": {},
   "source": [
    "## Importing libraries"
   ]
  },
  {
   "cell_type": "code",
   "execution_count": 4,
   "metadata": {},
   "outputs": [],
   "source": [
    "import numpy as np\n",
    "from scipy.ndimage.filters import convolve\n",
    "from skimage.color import rgb2grey"
   ]
  },
  {
   "cell_type": "code",
   "execution_count": 4,
   "metadata": {},
   "outputs": [],
   "source": [
    "np.set_printoptions(precision=3)\n",
    "np.set_printoptions(linewidth=np.inf)"
   ]
  },
  {
   "cell_type": "markdown",
   "metadata": {},
   "source": [
    "## Normalize"
   ]
  },
  {
   "cell_type": "code",
   "execution_count": 52,
   "metadata": {},
   "outputs": [],
   "source": [
    "def normalize(image) :\n",
    "    return image/np.max(image)"
   ]
  },
  {
   "cell_type": "markdown",
   "metadata": {},
   "source": [
    "## Get border pixels"
   ]
  },
  {
   "cell_type": "code",
   "execution_count": 5,
   "metadata": {},
   "outputs": [],
   "source": [
    "def isBorderPixel(n, m, mask) :\n",
    "    # function that takes a pixel position (n, m) and a mask as input and returns\n",
    "    # wether the pixel in that position is a border pixel or not\n",
    "    \n",
    "    if mask[n][m] == 0 :\n",
    "        return False\n",
    "    \n",
    "    for i in range(-1, 2) :\n",
    "        for j in range(-1, 2) :\n",
    "            if i == 0 and j == 0 or n+i<0 or m+j<0:\n",
    "                continue\n",
    "            try :\n",
    "                if mask[n + i][m + j] == 0 :\n",
    "                    return True\n",
    "            except IndexError :\n",
    "                continue\n",
    "                \n",
    "    return False"
   ]
  },
  {
   "cell_type": "code",
   "execution_count": 6,
   "metadata": {},
   "outputs": [],
   "source": [
    "def getBorderPx(mask) :\n",
    "    border_pxls = set()\n",
    "    \n",
    "    for i in range(mask.shape[0]) :\n",
    "        for j in range(mask.shape[1]) :\n",
    "            if isBorderPixel(i, j, mask) :\n",
    "                border_pxls.add((i, j))\n",
    "    \n",
    "    return border_pxls"
   ]
  },
  {
   "cell_type": "code",
   "execution_count": 7,
   "metadata": {},
   "outputs": [],
   "source": [
    "mask = np.array([[1, 1, 1, 1, 1],\n",
    "                 [1, 1, 0, 1, 0],\n",
    "                 [1, 0, 0, 0, 0],\n",
    "                 [1, 1, 0, 0, 1],\n",
    "                 [1, 1, 1, 1, 1]\n",
    "                ])"
   ]
  },
  {
   "cell_type": "code",
   "execution_count": 8,
   "metadata": {
    "scrolled": false
   },
   "outputs": [
    {
     "data": {
      "text/plain": [
       "{(0, 1),\n",
       " (0, 2),\n",
       " (0, 3),\n",
       " (0, 4),\n",
       " (1, 0),\n",
       " (1, 1),\n",
       " (1, 3),\n",
       " (2, 0),\n",
       " (3, 0),\n",
       " (3, 1),\n",
       " (3, 4),\n",
       " (4, 1),\n",
       " (4, 2),\n",
       " (4, 3),\n",
       " (4, 4)}"
      ]
     },
     "execution_count": 8,
     "metadata": {},
     "output_type": "execute_result"
    }
   ],
   "source": [
    "getBorderPx(mask)"
   ]
  },
  {
   "cell_type": "markdown",
   "metadata": {},
   "source": [
    "## Calculate and Get Max Priority"
   ]
  },
  {
   "cell_type": "code",
   "execution_count": 55,
   "metadata": {},
   "outputs": [],
   "source": [
    "def patchConfidence(center, confidence, mask, patch_size) :\n",
    "    \n",
    "    i, j = center\n",
    "    offset = patch_size//2\n",
    "    \n",
    "    return np.sum(confidence[i - offset : i + offset + 1, j - offset : j + offset + 1]) / patch_size**2"
   ]
  },
  {
   "cell_type": "code",
   "execution_count": 9,
   "metadata": {},
   "outputs": [
    {
     "data": {
      "text/plain": [
       "0.4444444444444444"
      ]
     },
     "execution_count": 9,
     "metadata": {},
     "output_type": "execute_result"
    }
   ],
   "source": [
    "mask = np.array([[1, 1, 1, 1],\n",
    "                 [1, 0, 0, 0],\n",
    "                 [0, 0, 0, 0],\n",
    "                 [0, 0, 0, 0]\n",
    "                 ])\n",
    "center = (1, 1)\n",
    "confidence = np.copy(mask)\n",
    "patch_size = 3\n",
    "\n",
    "patchConfidence(center, confidence, mask, patch_size)"
   ]
  },
  {
   "cell_type": "code",
   "execution_count": 27,
   "metadata": {},
   "outputs": [],
   "source": [
    "def calcNormalMatrix(center, mask):\n",
    "    \n",
    "    x_kernel = np.array([[.25, 0, -.25], [.5, 0, -.5], [.25, 0, -.25]])\n",
    "    y_kernel = np.array([[.25, .5, .25], [0, 0, 0], [-.25, -.5, -.25]])\n",
    "    \n",
    "    x_normal = convolve(mask.astype(float), x_kernel)\n",
    "    y_normal = convolve(mask.astype(float), y_kernel)\n",
    "    \n",
    "    normal = np.dstack((x_normal, y_normal))\n",
    "    \n",
    "    norm = np.sqrt(normal[:, :, 0]**2 + normal[:, :, 1]**2)\n",
    "    norm[norm == 0] = 1\n",
    "    norm = np.expand_dims(norm, axis=2)\n",
    "    \n",
    "    print(norm.shape)\n",
    "    print(normal.shape)\n",
    "    \n",
    "    unit_normal = -normal/norm\n",
    "    return unit_normal"
   ]
  },
  {
   "cell_type": "code",
   "execution_count": 28,
   "metadata": {},
   "outputs": [
    {
     "name": "stdout",
     "output_type": "stream",
     "text": [
      "(6, 6, 1)\n",
      "(6, 6, 2)\n"
     ]
    },
    {
     "data": {
      "text/plain": [
       "array([[[-0.        , -0.        ],\n",
       "        [-0.        , -0.        ],\n",
       "        [-0.        , -0.        ],\n",
       "        [-0.        , -0.        ],\n",
       "        [-0.        , -0.        ],\n",
       "        [-0.        , -0.        ]],\n",
       "\n",
       "       [[ 0.70710678,  0.70710678],\n",
       "        [ 0.31622777,  0.9486833 ],\n",
       "        [-0.        ,  1.        ],\n",
       "        [-0.31622777,  0.9486833 ],\n",
       "        [-0.70710678,  0.70710678],\n",
       "        [-0.        , -0.        ]],\n",
       "\n",
       "       [[ 1.        , -0.        ],\n",
       "        [ 0.9486833 ,  0.31622777],\n",
       "        [ 0.31622777,  0.9486833 ],\n",
       "        [-0.70710678,  0.70710678],\n",
       "        [-0.9486833 ,  0.31622777],\n",
       "        [-0.        , -0.        ]],\n",
       "\n",
       "       [[ 1.        , -0.        ],\n",
       "        [ 1.        , -0.        ],\n",
       "        [ 1.        , -0.        ],\n",
       "        [-1.        , -0.        ],\n",
       "        [-1.        , -0.        ],\n",
       "        [-0.        , -0.        ]],\n",
       "\n",
       "       [[ 1.        , -0.        ],\n",
       "        [ 0.9486833 , -0.31622777],\n",
       "        [ 0.31622777, -0.9486833 ],\n",
       "        [-0.70710678, -0.70710678],\n",
       "        [-0.9486833 , -0.31622777],\n",
       "        [-0.        , -0.        ]],\n",
       "\n",
       "       [[ 0.70710678, -0.70710678],\n",
       "        [ 0.31622777, -0.9486833 ],\n",
       "        [-0.        , -1.        ],\n",
       "        [-0.31622777, -0.9486833 ],\n",
       "        [-0.70710678, -0.70710678],\n",
       "        [-0.        , -0.        ]]])"
      ]
     },
     "execution_count": 28,
     "metadata": {},
     "output_type": "execute_result"
    }
   ],
   "source": [
    "mask = np.array([[1, 1, 1, 1, 1, 1],\n",
    "                 [1, 1, 1, 1, 1, 1],\n",
    "                 [1, 0, 0, 0, 1, 1],\n",
    "                 [1, 1, 0, 0, 1, 1],\n",
    "                 [1, 0, 0, 0, 1, 1],\n",
    "                 [1, 1, 1, 1, 1, 1],\n",
    "                 ])\n",
    "center = (3, 4)\n",
    "\n",
    "calcNormalMatrix(center, mask)"
   ]
  },
  {
   "cell_type": "code",
   "execution_count": 31,
   "metadata": {},
   "outputs": [],
   "source": [
    "def calcGradientMatrix(center, image, mask, patch_size):\n",
    "    \n",
    "    # TODO: find a better method to calc the gradient\n",
    "    height, width = image.shape[:2]\n",
    "\n",
    "    grey_image = rgb2grey(image)\n",
    "    grey_image[mask == 0] = None\n",
    "    print(mask)\n",
    "    print(np.gradient(grey_image))\n",
    "    gradient = np.nan_to_num(np.array(np.gradient(grey_image)))\n",
    "    print(gradient.shape)\n",
    "    gradient_val = np.sqrt(gradient[0]**2 + gradient[1]**2)\n",
    "    max_gradient = np.zeros([2])\n",
    "    \n",
    "    offset = patch_size//2\n",
    "    i, j = center\n",
    "    \n",
    "    patch_y_gradient = gradient[0][i - offset : i + offset + 1, j - offset : j + offset + 1]\n",
    "    patch_x_gradient = gradient[1][i - offset : i + offset + 1, j - offset : j + offset + 1]\n",
    "    patch_gradient_val = gradient_val[i - offset : i + offset + 1, j - offset : j + offset + 1]\n",
    "\n",
    "    patch_max_pos = np.unravel_index(\n",
    "        patch_gradient_val.argmax(),\n",
    "        patch_gradient_val.shape\n",
    "    )\n",
    "\n",
    "    max_gradient[0] = patch_y_gradient[patch_max_pos]\n",
    "    max_gradient[1] = patch_x_gradient[patch_max_pos]\n",
    "\n",
    "    return max_gradient"
   ]
  },
  {
   "cell_type": "code",
   "execution_count": 32,
   "metadata": {},
   "outputs": [
    {
     "name": "stdout",
     "output_type": "stream",
     "text": [
      "[[[0.44425022 0.21030013 0.38785301]\n",
      "  [0.11735457 0.77886158 0.95725368]\n",
      "  [0.07213456 0.36532253 0.843674  ]\n",
      "  [0.50194574 0.9169481  0.85080451]\n",
      "  [0.80236714 0.20276838 0.8250168 ]\n",
      "  [0.90316111 0.66980146 0.65400786]]\n",
      "\n",
      " [[0.2365842  0.72535518 0.79299232]\n",
      "  [0.15981027 0.02095597 0.8674583 ]\n",
      "  [0.71607031 0.94438892 0.15020019]\n",
      "  [0.53492334 0.22471178 0.84057491]\n",
      "  [0.36661361 0.5645871  0.52020878]\n",
      "  [0.48029917 0.8393666  0.48288966]]\n",
      "\n",
      " [[0.48460189 0.60472258 0.01526855]\n",
      "  [0.90120085 0.33632951 0.47282887]\n",
      "  [0.48479975 0.03896074 0.4421384 ]\n",
      "  [0.86807909 0.60807588 0.04758213]\n",
      "  [0.41476768 0.24136649 0.50533655]\n",
      "  [0.04317705 0.61628874 0.91800694]]\n",
      "\n",
      " [[0.71065626 0.38968992 0.13859594]\n",
      "  [0.35546588 0.09151978 0.91367978]\n",
      "  [0.19152067 0.56478468 0.8467677 ]\n",
      "  [0.51696249 0.51632451 0.94645698]\n",
      "  [0.84178709 0.034962   0.0671346 ]\n",
      "  [0.08911539 0.85629836 0.86303933]]\n",
      "\n",
      " [[0.26219934 0.62936887 0.47637485]\n",
      "  [0.44858762 0.77587659 0.92084633]\n",
      "  [0.97346041 0.15128369 0.47617143]\n",
      "  [0.03846722 0.10276488 0.99452848]\n",
      "  [0.34870484 0.69024399 0.02741008]\n",
      "  [0.34956825 0.52411733 0.38846295]]\n",
      "\n",
      " [[0.21128942 0.83932334 0.84472074]\n",
      "  [0.87800836 0.59171873 0.91296951]\n",
      "  [0.4264499  0.4100656  0.69016749]\n",
      "  [0.63695096 0.82707986 0.08797863]\n",
      "  [0.18386577 0.43398758 0.45007766]\n",
      "  [0.15366522 0.4152194  0.97068987]]]\n",
      "[[1 1 1 1 1 1]\n",
      " [1 1 1 1 1 1]\n",
      " [1 1 0 0 1 1]\n",
      " [1 1 0 0 1 1]\n",
      " [1 0 0 0 1 1]\n",
      " [1 1 1 1 1 1]]\n",
      "[array([[ 0.3535519 , -0.53965808,  0.50110098, -0.48895568,  0.14427083,\n",
      "         0.01911111],\n",
      "       [ 0.13194061, -0.09247357,         nan,         nan, -0.03890037,\n",
      "        -0.10099764],\n",
      "       [-0.0932883 ,  0.04769537,         nan,         nan, -0.15529304,\n",
      "        -0.02180239],\n",
      "       [ 0.00180859,         nan,         nan,         nan,  0.13631506,\n",
      "        -0.01950571],\n",
      "       [ 0.13323195,  0.2344157 ,         nan,         nan,  0.0866324 ,\n",
      "        -0.14703472],\n",
      "       [ 0.16594081,         nan,         nan,         nan, -0.18787981,\n",
      "        -0.07755641]]), array([[ 0.37833733,  0.03234657,  0.08641887,  0.018769  , -0.05286974,\n",
      "         0.34320444],\n",
      "       [-0.51487266,  0.10612111,  0.11177007, -0.15964608,  0.20116366,\n",
      "         0.21804472],\n",
      "       [-0.07049103,         nan,         nan,         nan,         nan,\n",
      "         0.2190099 ],\n",
      "       [-0.23290534,         nan,         nan,         nan,         nan,\n",
      "         0.48502602],\n",
      "       [        nan,         nan,         nan,         nan,         nan,\n",
      "        -0.09263163],\n",
      "       [-0.03053782, -0.13625634,  0.0288354 , -0.02587291, -0.16684986,\n",
      "         0.01769177]])]\n",
      "(2, 6, 6)\n"
     ]
    },
    {
     "data": {
      "text/plain": [
       "array([ 0.13194061, -0.51487266])"
      ]
     },
     "execution_count": 32,
     "metadata": {},
     "output_type": "execute_result"
    }
   ],
   "source": [
    "image = np.random.rand(6, 6, 3)\n",
    "\n",
    "print(image)\n",
    "\n",
    "mask = np.array([[1, 1, 1, 1, 1, 1],\n",
    "                 [1, 1, 1, 1, 1, 1],\n",
    "                 [1, 1, 0, 0, 1, 1],\n",
    "                 [1, 1, 0, 0, 1, 1],\n",
    "                 [1, 0, 0, 0, 1, 1],\n",
    "                 [1, 1, 1, 1, 1, 1],\n",
    "                 ])\n",
    "\n",
    "center = (2, 1)\n",
    "patch_size = 3\n",
    "\n",
    "calcGradientMatrix(center, image, mask, patch_size)"
   ]
  },
  {
   "cell_type": "code",
   "execution_count": 8,
   "metadata": {},
   "outputs": [],
   "source": [
    "def patchData(center, image, mask, alpha, patch_size) :\n",
    "    \n",
    "    offset = patch_size//2\n",
    "    i, j = center\n",
    "    patch_mask = mask[i - offset : i + offset + 1, j - offset : j + offset + 1]\n",
    "    normal = calcNormalMatrix(center, patch_mask)\n",
    "    max_gradient = calcGradientMatrix(center, image, mask, patch_size)\n",
    "    \n",
    "    data = np.abs(np.dot(normal, max_gradient.T)) / alpha\n",
    "    \n",
    "    return data"
   ]
  },
  {
   "cell_type": "code",
   "execution_count": 46,
   "metadata": {},
   "outputs": [
    {
     "name": "stdout",
     "output_type": "stream",
     "text": [
      "[[[0.666 0.504 0.265]\n",
      "  [0.454 0.287 0.988]\n",
      "  [0.317 0.224 0.488]\n",
      "  [0.489 0.456 0.963]\n",
      "  [0.001 0.465 0.782]\n",
      "  [0.175 0.034 0.817]]\n",
      "\n",
      " [[0.701 0.398 0.979]\n",
      "  [0.976 0.635 0.38 ]\n",
      "  [0.251 0.377 0.429]\n",
      "  [0.877 0.449 0.706]\n",
      "  [0.421 0.452 0.459]\n",
      "  [0.378 0.072 0.908]]\n",
      "\n",
      " [[0.441 0.95  0.033]\n",
      "  [0.322 0.303 0.229]\n",
      "  [0.28  0.632 0.172]\n",
      "  [0.416 0.001 0.563]\n",
      "  [0.516 0.372 0.052]\n",
      "  [0.035 0.755 0.514]]\n",
      "\n",
      " [[0.723 0.156 0.959]\n",
      "  [0.653 0.883 0.189]\n",
      "  [0.841 0.434 0.071]\n",
      "  [0.553 0.862 0.417]\n",
      "  [0.923 0.277 0.628]\n",
      "  [0.264 0.141 0.062]]\n",
      "\n",
      " [[0.947 0.135 0.366]\n",
      "  [0.802 0.081 0.006]\n",
      "  [0.236 0.547 0.495]\n",
      "  [0.349 0.589 0.202]\n",
      "  [0.607 0.847 0.483]\n",
      "  [0.479 0.057 0.31 ]]\n",
      "\n",
      " [[0.907 0.219 0.965]\n",
      "  [0.976 0.002 0.369]\n",
      "  [0.065 0.74  0.297]\n",
      "  [0.41  0.446 0.213]\n",
      "  [0.701 0.79  0.051]\n",
      "  [0.734 0.866 0.579]]]\n"
     ]
    },
    {
     "data": {
      "text/plain": [
       "0.023524260007935255"
      ]
     },
     "execution_count": 46,
     "metadata": {},
     "output_type": "execute_result"
    }
   ],
   "source": [
    "image = np.random.rand(6, 6, 3)\n",
    "\n",
    "print(image)\n",
    "\n",
    "mask = np.array([[1, 1, 1, 1, 1, 1],\n",
    "                 [1, 1, 1, 1, 1, 1],\n",
    "                 [1, 1, 0, 0, 1, 1],\n",
    "                 [1, 1, 0, 0, 1, 1],\n",
    "                 [1, 0, 0, 0, 1, 1],\n",
    "                 [1, 1, 1, 1, 1, 1],\n",
    "                 ])\n",
    "\n",
    "center = (2, 1)\n",
    "patch_size = 3\n",
    "alpha = 1\n",
    "\n",
    "patchData(center, image, mask, alpha, patch_size)"
   ]
  },
  {
   "cell_type": "code",
   "execution_count": 62,
   "metadata": {},
   "outputs": [],
   "source": [
    "def getMaxPriority(border_pxls, confidence, image, mask, alpha, patch_size) :\n",
    "    \n",
    "    Pp, Cp = 0, 0\n",
    "    max_pixel = (0, 0)\n",
    "    \n",
    "    for pixel in border_pxls :\n",
    "        \n",
    "        n, m = pixel\n",
    "        offset = patch_size//2\n",
    "        \n",
    "        if n - offset < 0 or n + offset + 1 > image.shape[0] or m - offset < 0 or m + offset + 1 > image.shape[1] :\n",
    "            continue\n",
    "        \n",
    "        current_Cp = patchConfidence(pixel, confidence, mask, patch_size)\n",
    "        current_Dp = patchData(pixel, image, mask, alpha, patch_size)\n",
    "\n",
    "        current_Pp = current_Cp * current_Dp # Pp to change into matrix\n",
    "        \n",
    "        if current_Pp > Pp :\n",
    "            Pp = current_Pp\n",
    "            Cp = current_Cp\n",
    "            max_pixel = pixel\n",
    "            \n",
    "    return pixel, Cp"
   ]
  },
  {
   "cell_type": "code",
   "execution_count": 76,
   "metadata": {},
   "outputs": [
    {
     "ename": "TypeError",
     "evalue": "getMaxPriority() missing 5 required positional arguments: 'confidence', 'image', 'mask', 'alpha', and 'patch_size'",
     "output_type": "error",
     "traceback": [
      "\u001b[1;31m---------------------------------------------------------------------------\u001b[0m",
      "\u001b[1;31mTypeError\u001b[0m                                 Traceback (most recent call last)",
      "\u001b[1;32m<ipython-input-76-87540b4d84c3>\u001b[0m in \u001b[0;36m<module>\u001b[1;34m\u001b[0m\n\u001b[0;32m     14\u001b[0m \u001b[0mpatch_size\u001b[0m \u001b[1;33m=\u001b[0m \u001b[1;36m3\u001b[0m\u001b[1;33m\u001b[0m\u001b[1;33m\u001b[0m\u001b[0m\n\u001b[0;32m     15\u001b[0m \u001b[1;33m\u001b[0m\u001b[0m\n\u001b[1;32m---> 16\u001b[1;33m \u001b[0mgetMaxPriority\u001b[0m\u001b[1;33m(\u001b[0m\u001b[0mPp\u001b[0m\u001b[1;33m)\u001b[0m\u001b[1;33m\u001b[0m\u001b[1;33m\u001b[0m\u001b[0m\n\u001b[0m",
      "\u001b[1;31mTypeError\u001b[0m: getMaxPriority() missing 5 required positional arguments: 'confidence', 'image', 'mask', 'alpha', and 'patch_size'"
     ]
    }
   ],
   "source": [
    "Pp = np.array([[1, 1, 1, 1, 1],\n",
    "               [1, 3, 1, 4, 1],\n",
    "               [1, 2, 5, 0, 1],\n",
    "               [1, 1, 1, 1, 1],\n",
    "               [1, 1, 1, 1, 1]])\n",
    "\n",
    "mask = np.array([[1, 1, 1, 1],\n",
    "                 [1, 0, 0, 0],\n",
    "                 [0, 0, 0, 0],\n",
    "                 [0, 0, 0, 0]\n",
    "                 ])\n",
    "center = (1, 1)\n",
    "confidence = np.copy(mask)\n",
    "patch_size = 3\n",
    "\n",
    "getMaxPriority(Pp)"
   ]
  },
  {
   "cell_type": "markdown",
   "metadata": {},
   "source": [
    "## Get optimal patch"
   ]
  },
  {
   "cell_type": "code",
   "execution_count": 56,
   "metadata": {},
   "outputs": [],
   "source": [
    "def distance(target_patch, candidate_patch, mask_patch) :\n",
    "     \n",
    "#     print((target_patch - candidate_patch) * mask_patch)  \n",
    "#     print(((target_patch - candidate_patch) * mask_patch) ** 2)\n",
    "    \n",
    "    return np.sum(((target_patch - candidate_patch) * mask_patch) ** 2) / np.sum(mask)"
   ]
  },
  {
   "cell_type": "code",
   "execution_count": 14,
   "metadata": {
    "scrolled": true
   },
   "outputs": [
    {
     "data": {
      "text/plain": [
       "0.030000000000000016"
      ]
     },
     "execution_count": 14,
     "metadata": {},
     "output_type": "execute_result"
    }
   ],
   "source": [
    "target_patch = np.array([[[0.2, 0.3, 0.1], [0.2, 0.3, 0.1], [0.2, 0.3, 0.1]],\n",
    "                         [[0.2, 0.3, 0.1], [0.2, 0.3, 0.1], [0.2, 0.3, 0.1]],\n",
    "                         [[0.2, 0.3, 0.1], [0.2, 0.3, 0.1], [0.2, 0.3, 0.1]]\n",
    "                        ])\n",
    "\n",
    "candidate_patch = np.array([[[0.1, 0.4, 0.2], [0.1, 0.4, 0.2], [0.1, 0.4, 0.2]],\n",
    "                           [[0.1, 0.4, 0.2], [0.1, 0.4, 0.2], [0.1, 0.4, 0.2]],\n",
    "                           [[0.1, 0.4, 0.2], [0.1, 0.4, 0.2], [0.1, 0.4, 0.2]]\n",
    "                          ])\n",
    "\n",
    "mask_patch = np.array([[1, 1, 1],\n",
    "                       [1, 1, 0],\n",
    "                       [0, 0, 0]])\n",
    "\n",
    "distance(target_patch, candidate_patch, mask_patch)"
   ]
  },
  {
   "cell_type": "code",
   "execution_count": 15,
   "metadata": {},
   "outputs": [
    {
     "data": {
      "text/plain": [
       "(3, 3, 3)"
      ]
     },
     "execution_count": 15,
     "metadata": {},
     "output_type": "execute_result"
    }
   ],
   "source": [
    "target_patch.shape"
   ]
  },
  {
   "cell_type": "code",
   "execution_count": 57,
   "metadata": {},
   "outputs": [],
   "source": [
    "def getOptimalPatch(image, mask, target_patch, patch_size, local_radius = None) :\n",
    "    \n",
    "    n, m = target_patch\n",
    "    \n",
    "    offset = patch_size//2\n",
    "    \n",
    "    if local_radius :\n",
    "        upper_i = min(n + local_radius, image.shape[0] - offset - 1)\n",
    "        lower_i = max(n - local_radius, offset)\n",
    "        upper_j = min(m + local_radius, image.shape[1] - offset - 1)\n",
    "        lower_j = max(m - local_radius, offset)\n",
    "    else :\n",
    "        upper_i = image.shape[0] - offset - 1\n",
    "        lower_i = offset\n",
    "        upper_j = image.shape[1] - offset - 1\n",
    "        lower_j = offset\n",
    "#     print(\"i : {} - {}, j : {} - {}\".format(lower_i, upper_i, lower_j, upper_j))\n",
    "    \n",
    "    optimal_patch = (0, 0)\n",
    "    optimal_distance = 1e9\n",
    "    \n",
    "    for i in range(lower_i, upper_i + 1) :\n",
    "        for j in range(lower_j, upper_j + 1) :\n",
    "            \n",
    "#             print(i, \"-\", j)\n",
    "            \n",
    "            if np.any(mask[i - offset : i + offset + 1, j - offset : j + offset + 1] == 0) :\n",
    "                continue\n",
    "            \n",
    "            target_patch = image[n - offset : n + offset + 1, m - offset : m + offset + 1, :]\n",
    "            \n",
    "            # if candidate patch in part in mask break\n",
    "            candidate_patch = image[i - offset : i + offset + 1, j - offset : j + offset + 1, :]            \n",
    "            mask_patch = mask[n - offset : n + offset + 1, m - offset : m + offset + 1]\n",
    "            \n",
    "#             print(\"target patch : \\n\", target_patch)            \n",
    "#             print(\"candidate patch : \\n\\n\", candidate_patch)            \n",
    "#             print(\"mask patch : \\n\", mask_patch)\n",
    "            \n",
    "            current_distance = distance(target_patch, candidate_patch, mask_patch)\n",
    "            \n",
    "#             print(\"current distance : {}\".format(current_distance))\n",
    "            \n",
    "            if current_distance < optimal_distance :\n",
    "                optimal_patch = (i, j)\n",
    "                optimal_distance = current_distance\n",
    "    \n",
    "    return optimal_patch"
   ]
  },
  {
   "cell_type": "code",
   "execution_count": 17,
   "metadata": {},
   "outputs": [
    {
     "data": {
      "text/plain": [
       "(4, 2, 3)"
      ]
     },
     "execution_count": 17,
     "metadata": {},
     "output_type": "execute_result"
    }
   ],
   "source": [
    "np.array([[[1, 1, 1], [1, 1, 1]],\n",
    "        [[1, 1, 1], [1, 1, 1]],\n",
    "        [[1, 1, 1], [1, 1, 1]],\n",
    "        [[1, 1, 1], [1, 1, 1]]]).shape"
   ]
  },
  {
   "cell_type": "code",
   "execution_count": 18,
   "metadata": {},
   "outputs": [
    {
     "name": "stdout",
     "output_type": "stream",
     "text": [
      "image \n",
      " [[[0.204 0.506 0.174]\n",
      "  [0.088 0.119 0.99 ]\n",
      "  [0.101 0.323 0.072]\n",
      "  [0.171 0.249 0.042]\n",
      "  [0.361 0.093 0.448]\n",
      "  [0.828 0.208 0.228]\n",
      "  [0.502 0.422 0.526]\n",
      "  [0.908 0.331 0.536]\n",
      "  [0.797 0.367 0.777]\n",
      "  [0.531 0.878 0.642]]\n",
      "\n",
      " [[0.741 0.826 0.532]\n",
      "  [0.559 0.162 0.775]\n",
      "  [0.401 0.943 0.153]\n",
      "  [0.213 0.573 0.03 ]\n",
      "  [0.674 0.557 0.482]\n",
      "  [0.148 0.504 0.632]\n",
      "  [0.502 0.703 0.942]\n",
      "  [0.262 0.691 0.609]\n",
      "  [0.877 0.964 0.434]\n",
      "  [0.156 0.096 0.919]]\n",
      "\n",
      " [[0.204 0.782 0.673]\n",
      "  [0.329 0.179 0.291]\n",
      "  [0.771 0.451 0.02 ]\n",
      "  [0.77  0.859 0.207]\n",
      "  [0.957 0.594 0.402]\n",
      "  [0.483 0.608 0.536]\n",
      "  [0.414 0.224 0.598]\n",
      "  [0.989 0.564 0.718]\n",
      "  [0.76  0.556 0.462]\n",
      "  [0.168 0.84  0.79 ]]\n",
      "\n",
      " [[0.311 0.355 0.615]\n",
      "  [0.066 0.548 0.712]\n",
      "  [0.763 0.048 0.804]\n",
      "  [0.487 0.58  0.344]\n",
      "  [0.919 0.825 0.2  ]\n",
      "  [0.394 0.618 0.958]\n",
      "  [0.412 0.86  0.662]\n",
      "  [0.4   0.079 0.026]\n",
      "  [0.519 0.728 0.465]\n",
      "  [0.549 0.952 0.702]]\n",
      "\n",
      " [[0.531 0.014 0.33 ]\n",
      "  [0.719 0.787 0.563]\n",
      "  [0.201 0.585 0.027]\n",
      "  [0.069 0.332 0.604]\n",
      "  [0.333 0.288 0.656]\n",
      "  [0.058 0.001 0.165]\n",
      "  [0.143 0.366 0.271]\n",
      "  [0.765 0.022 0.376]\n",
      "  [0.508 0.581 0.768]\n",
      "  [0.705 0.447 0.546]]\n",
      "\n",
      " [[0.582 0.248 0.814]\n",
      "  [0.043 0.59  0.968]\n",
      "  [0.335 0.651 0.032]\n",
      "  [0.22  0.623 0.547]\n",
      "  [0.66  0.027 0.663]\n",
      "  [0.149 0.211 0.467]\n",
      "  [0.229 0.502 0.092]\n",
      "  [0.695 0.17  0.681]\n",
      "  [0.221 0.319 0.93 ]\n",
      "  [0.443 0.016 0.128]]\n",
      "\n",
      " [[0.027 0.3   0.927]\n",
      "  [0.398 0.646 0.718]\n",
      "  [0.755 0.178 0.853]\n",
      "  [0.682 0.917 0.751]\n",
      "  [0.042 0.064 0.483]\n",
      "  [0.994 0.86  0.856]\n",
      "  [0.941 0.314 0.295]\n",
      "  [0.695 0.578 0.679]\n",
      "  [0.224 0.67  0.267]\n",
      "  [0.426 0.467 0.056]]\n",
      "\n",
      " [[0.115 0.951 0.287]\n",
      "  [0.527 0.261 0.977]\n",
      "  [0.127 0.346 0.346]\n",
      "  [0.471 0.438 0.876]\n",
      "  [0.771 0.315 0.268]\n",
      "  [0.787 0.546 0.858]\n",
      "  [0.04  0.102 0.178]\n",
      "  [0.465 0.593 0.499]\n",
      "  [0.519 0.171 0.211]\n",
      "  [0.684 0.772 0.246]]\n",
      "\n",
      " [[0.882 0.192 0.872]\n",
      "  [0.344 0.693 0.723]\n",
      "  [0.558 0.611 0.362]\n",
      "  [0.947 0.645 0.97 ]\n",
      "  [0.12  0.011 0.343]\n",
      "  [0.236 0.836 0.477]\n",
      "  [0.037 0.594 0.024]\n",
      "  [0.142 0.539 0.206]\n",
      "  [0.204 0.119 0.486]\n",
      "  [0.526 0.279 0.758]]\n",
      "\n",
      " [[0.8   0.608 0.895]\n",
      "  [0.219 0.867 0.812]\n",
      "  [0.006 0.088 0.651]\n",
      "  [0.653 0.932 0.028]\n",
      "  [0.527 0.691 0.703]\n",
      "  [0.293 0.134 0.762]\n",
      "  [0.741 0.503 0.99 ]\n",
      "  [0.307 0.175 0.567]\n",
      "  [0.371 0.564 0.585]\n",
      "  [0.698 0.854 0.064]]]\n",
      "1 - 1\n",
      "1 - 2\n",
      "1 - 3\n",
      "1 - 4\n",
      "1 - 5\n",
      "1 - 6\n",
      "1 - 7\n",
      "1 - 8\n",
      "2 - 1\n",
      "2 - 2\n",
      "2 - 3\n",
      "2 - 4\n",
      "2 - 5\n",
      "2 - 6\n",
      "2 - 7\n",
      "2 - 8\n",
      "3 - 1\n",
      "3 - 2\n",
      "3 - 3\n",
      "3 - 4\n",
      "3 - 5\n",
      "3 - 6\n",
      "3 - 7\n",
      "3 - 8\n",
      "4 - 1\n",
      "4 - 2\n",
      "4 - 3\n",
      "4 - 4\n",
      "4 - 5\n",
      "4 - 6\n",
      "4 - 7\n",
      "4 - 8\n",
      "5 - 1\n",
      "5 - 2\n",
      "5 - 3\n",
      "5 - 4\n",
      "5 - 5\n",
      "5 - 6\n",
      "5 - 7\n",
      "5 - 8\n",
      "6 - 1\n",
      "6 - 2\n",
      "6 - 3\n",
      "6 - 4\n",
      "6 - 5\n",
      "6 - 6\n",
      "6 - 7\n",
      "6 - 8\n",
      "7 - 1\n",
      "7 - 2\n",
      "7 - 3\n",
      "7 - 4\n",
      "7 - 5\n",
      "7 - 6\n",
      "7 - 7\n",
      "7 - 8\n",
      "8 - 1\n",
      "8 - 2\n",
      "8 - 3\n",
      "8 - 4\n",
      "8 - 5\n",
      "8 - 6\n",
      "8 - 7\n",
      "8 - 8\n"
     ]
    },
    {
     "data": {
      "text/plain": [
       "(8, 8)"
      ]
     },
     "execution_count": 18,
     "metadata": {},
     "output_type": "execute_result"
    }
   ],
   "source": [
    "image = np.random.rand(10, 10, 3)\n",
    "\n",
    "print(\"image \\n\", image)\n",
    "\n",
    "mask = np.array([[1, 1, 1, 1, 1, 1, 1, 1, 1, 1],\n",
    "                 [1, 1, 1, 1, 1, 1, 1, 1, 1, 1],\n",
    "                 [1, 1, 0, 0, 1, 1, 1, 1, 1, 1],\n",
    "                 [1, 1, 0, 0, 1, 1, 1, 1, 1, 1],\n",
    "                 [1, 1, 1, 1, 1, 1, 1, 1, 1, 1],\n",
    "                 [1, 1, 1, 1, 1, 1, 1, 1, 1, 1],\n",
    "                 [1, 1, 1, 1, 1, 1, 1, 1, 1, 1],\n",
    "                 [1, 1, 1, 1, 1, 1, 1, 1, 1, 1],\n",
    "                 [1, 1, 1, 1, 1, 1, 1, 1, 1, 1],\n",
    "                 [1, 1, 1, 1, 1, 1, 1, 1, 1, 1],\n",
    "                ])\n",
    "\n",
    "target_patch = (2, 1)\n",
    "\n",
    "patch_size = 3\n",
    "\n",
    "getOptimalPatch(image, mask, target_patch, patch_size, local_radius = None)"
   ]
  },
  {
   "cell_type": "code",
   "execution_count": 19,
   "metadata": {},
   "outputs": [
    {
     "name": "stdout",
     "output_type": "stream",
     "text": [
      "1 - 1\n",
      "1 - 2\n",
      "1 - 3\n",
      "1 - 4\n",
      "1 - 5\n",
      "1 - 6\n",
      "2 - 1\n",
      "2 - 2\n",
      "2 - 3\n",
      "2 - 4\n",
      "2 - 5\n",
      "2 - 6\n",
      "3 - 1\n",
      "3 - 2\n",
      "3 - 3\n",
      "3 - 4\n",
      "3 - 5\n",
      "3 - 6\n",
      "4 - 1\n",
      "4 - 2\n",
      "4 - 3\n",
      "4 - 4\n",
      "4 - 5\n",
      "4 - 6\n",
      "5 - 1\n",
      "5 - 2\n",
      "5 - 3\n",
      "5 - 4\n",
      "5 - 5\n",
      "5 - 6\n",
      "6 - 1\n",
      "6 - 2\n",
      "6 - 3\n",
      "6 - 4\n",
      "6 - 5\n",
      "6 - 6\n",
      "7 - 1\n",
      "7 - 2\n",
      "7 - 3\n",
      "7 - 4\n",
      "7 - 5\n",
      "7 - 6\n"
     ]
    },
    {
     "data": {
      "text/plain": [
       "(2, 6)"
      ]
     },
     "execution_count": 19,
     "metadata": {},
     "output_type": "execute_result"
    }
   ],
   "source": [
    "getOptimalPatch(image, mask, target_patch, patch_size, local_radius = 5)"
   ]
  },
  {
   "cell_type": "markdown",
   "metadata": {},
   "source": [
    "## Update confidence"
   ]
  },
  {
   "cell_type": "code",
   "execution_count": 58,
   "metadata": {},
   "outputs": [],
   "source": [
    "def updateConfidence(confidence, Cp, target_patch, mask, patch_size) :   \n",
    "    \n",
    "    i, j = target_patch\n",
    "    offset = patch_size//2\n",
    "\n",
    "    confidence[i - offset : i + offset + 1, j - offset : j + offset + 1] = confidence[i - offset : i + offset + 1, j - offset : j + offset + 1] + (1 - mask[i - offset : i + offset + 1, j - offset : j + offset + 1]) * Cp\n",
    "    \n",
    "    return confidence"
   ]
  },
  {
   "cell_type": "markdown",
   "metadata": {},
   "source": [
    "## Fill patch"
   ]
  },
  {
   "cell_type": "code",
   "execution_count": 59,
   "metadata": {},
   "outputs": [],
   "source": [
    "def fillPatch(image, mask, target_patch, opt_patch, patch_size) :\n",
    "    \n",
    "    n, m = target_patch\n",
    "    i, j = opt_patch\n",
    "    offset = patch_size//2\n",
    "    \n",
    "    un, dn, lm, rm = n - offset, n + offset + 1, m - offset, m + offset + 1\n",
    "    ui, di, lj, rj = i - offset, i + offset + 1, j - offset, j + offset + 1\n",
    "    \n",
    "#     mask = np.expand_dims(mask, axis=2)\n",
    "#     print(\"image * mask \\n\", image * mask)\n",
    "    \n",
    "    mask_patch = mask[un: dn, lm: rm]\n",
    "    mask_patch = np.expand_dims(mask_patch, axis=2)\n",
    "    \n",
    "#     print(\"image[un: dn, lm: rm, :] * mask_patch \\n\", image[un: dn, lm: rm, :] * mask_patch)\n",
    "#     print(\"image[ui: di, lj: rj, :] * (1 - mask_patch) \\n\", image[ui: di, lj: rj, :] * (1 - mask_patch))\n",
    "    \n",
    "    image[un: dn, lm: rm, :] = image[un: dn, lm: rm, :] * mask_patch + image[ui: di, lj: rj, :] * (1 - mask_patch)\n",
    "    \n",
    "    mask[un: dn, lm: rm] = 1\n",
    "    \n",
    "    return image, mask"
   ]
  },
  {
   "cell_type": "code",
   "execution_count": 23,
   "metadata": {},
   "outputs": [
    {
     "name": "stdout",
     "output_type": "stream",
     "text": [
      "image \n",
      " [[[0.172 0.251 0.798]\n",
      "  [0.418 0.475 0.682]\n",
      "  [0.334 0.765 0.592]\n",
      "  [0.171 0.217 0.542]\n",
      "  [0.195 0.666 0.118]\n",
      "  [0.775 0.766 0.284]]\n",
      "\n",
      " [[0.662 0.713 0.894]\n",
      "  [0.607 0.473 0.872]\n",
      "  [0.722 0.724 0.235]\n",
      "  [0.254 0.477 0.539]\n",
      "  [0.525 0.166 0.012]\n",
      "  [0.681 0.935 0.477]]\n",
      "\n",
      " [[0.958 0.396 0.594]\n",
      "  [0.446 0.673 0.139]\n",
      "  [0.584 0.967 0.064]\n",
      "  [0.038 0.756 0.828]\n",
      "  [0.171 0.694 0.831]\n",
      "  [0.776 0.889 0.032]]\n",
      "\n",
      " [[0.16  0.884 0.316]\n",
      "  [0.069 0.29  0.745]\n",
      "  [0.538 0.941 0.904]\n",
      "  [0.144 0.497 0.264]\n",
      "  [0.55  0.402 0.647]\n",
      "  [0.067 0.285 0.143]]\n",
      "\n",
      " [[0.231 0.123 0.683]\n",
      "  [0.443 0.508 0.398]\n",
      "  [0.469 0.906 0.581]\n",
      "  [0.142 0.793 0.397]\n",
      "  [0.93  0.85  0.122]\n",
      "  [0.271 0.455 0.908]]\n",
      "\n",
      " [[0.235 0.046 0.46 ]\n",
      "  [0.473 0.873 0.704]\n",
      "  [0.324 0.528 0.753]\n",
      "  [0.626 0.769 0.058]\n",
      "  [0.148 0.013 0.856]\n",
      "  [0.986 0.291 0.985]]]\n"
     ]
    },
    {
     "data": {
      "text/plain": [
       "(array([[[0.172, 0.251, 0.798],\n",
       "         [0.418, 0.475, 0.682],\n",
       "         [0.334, 0.765, 0.592],\n",
       "         [0.171, 0.217, 0.542],\n",
       "         [0.195, 0.666, 0.118],\n",
       "         [0.775, 0.766, 0.284]],\n",
       " \n",
       "        [[0.662, 0.713, 0.894],\n",
       "         [0.607, 0.473, 0.872],\n",
       "         [0.722, 0.724, 0.235],\n",
       "         [0.254, 0.477, 0.539],\n",
       "         [0.525, 0.166, 0.012],\n",
       "         [0.681, 0.935, 0.477]],\n",
       " \n",
       "        [[0.958, 0.396, 0.594],\n",
       "         [0.446, 0.673, 0.139],\n",
       "         [0.584, 0.967, 0.064],\n",
       "         [0.038, 0.756, 0.828],\n",
       "         [0.171, 0.694, 0.831],\n",
       "         [0.776, 0.889, 0.032]],\n",
       " \n",
       "        [[0.16 , 0.884, 0.316],\n",
       "         [0.069, 0.29 , 0.745],\n",
       "         [0.722, 0.724, 0.235],\n",
       "         [0.144, 0.497, 0.264],\n",
       "         [0.55 , 0.402, 0.647],\n",
       "         [0.067, 0.285, 0.143]],\n",
       " \n",
       "        [[0.231, 0.123, 0.683],\n",
       "         [0.443, 0.508, 0.398],\n",
       "         [0.469, 0.906, 0.581],\n",
       "         [0.142, 0.793, 0.397],\n",
       "         [0.93 , 0.85 , 0.122],\n",
       "         [0.271, 0.455, 0.908]],\n",
       " \n",
       "        [[0.235, 0.046, 0.46 ],\n",
       "         [0.473, 0.873, 0.704],\n",
       "         [0.324, 0.528, 0.753],\n",
       "         [0.626, 0.769, 0.058],\n",
       "         [0.148, 0.013, 0.856],\n",
       "         [0.986, 0.291, 0.985]]]),\n",
       " array([[1, 1, 1, 1, 1, 1],\n",
       "        [1, 1, 1, 1, 1, 1],\n",
       "        [1, 1, 1, 0, 1, 1],\n",
       "        [1, 1, 1, 0, 1, 1],\n",
       "        [1, 1, 1, 1, 1, 1],\n",
       "        [1, 1, 1, 1, 1, 1]]))"
      ]
     },
     "execution_count": 23,
     "metadata": {},
     "output_type": "execute_result"
    }
   ],
   "source": [
    "image = np.random.rand(6, 6, 3)\n",
    "\n",
    "print(\"image \\n\", image)\n",
    "\n",
    "mask = np.array([[1, 1, 1, 1, 1, 1],\n",
    "                 [1, 1, 1, 1, 1, 1],\n",
    "                 [1, 1, 1, 0, 1, 1],\n",
    "                 [1, 1, 0, 0, 1, 1],\n",
    "                 [1, 1, 1, 1, 1, 1],\n",
    "                 [1, 1, 1, 1, 1, 1]\n",
    "                ])\n",
    "\n",
    "\n",
    "target_patch = (3, 1)\n",
    "opt_patch = (1, 1)\n",
    "patch_size = 3\n",
    "\n",
    "fillPatch(image, mask, target_patch, opt_patch, patch_size)"
   ]
  },
  {
   "cell_type": "markdown",
   "metadata": {},
   "source": [
    "## Inpainting"
   ]
  },
  {
   "cell_type": "code",
   "execution_count": 63,
   "metadata": {},
   "outputs": [],
   "source": [
    "def inpaint(image, mask, patch_size=9, alpha=1, local_radius=500) :\n",
    "    \n",
    "    # assert patch_size is an odd number\n",
    "    assert(patch_size%2 == 1)\n",
    "    \n",
    "    confidence = np.copy(mask)\n",
    "    image = normalize(image) # * np.expand_dims(mask, axis=2)\n",
    "    \n",
    "    start_zeros = np.sum((1 - mask))\n",
    "\n",
    "    # change to identify border, then calculate priorities\n",
    "    while True :\n",
    "\n",
    "        border_pxls = getBorderPx(mask)\n",
    "        if len(border_pxls) == 0 :\n",
    "            break\n",
    "            \n",
    "        target_patch, Cp = getMaxPriority(border_pxls, confidence, image, mask, alpha, patch_size)\n",
    "\n",
    "        opt_patch = getOptimalPatch(image, mask, target_patch, patch_size, local_radius)\n",
    "\n",
    "        confidence = updateConfidence(confidence, Cp, target_patch, mask, patch_size)\n",
    "\n",
    "        image, mask = fillPatch(image, mask, target_patch, opt_patch, patch_size)\n",
    "        \n",
    "        print(\"Almost there ! ===> {:.1f}/{}\".format((1 - np.sum((1 - mask)) / start_zeros) * 100, 100), sep='\\n')\n",
    "        \n",
    "    return image"
   ]
  },
  {
   "cell_type": "code",
   "execution_count": 78,
   "metadata": {},
   "outputs": [
    {
     "name": "stdout",
     "output_type": "stream",
     "text": [
      "Almost there ! ===> 28.6/100\n",
      "Almost there ! ===> 42.9/100\n",
      "Almost there ! ===> 57.1/100\n",
      "Almost there ! ===> 85.7/100\n",
      "Almost there ! ===> 100.0/100\n"
     ]
    },
    {
     "data": {
      "text/plain": [
       "array([[[0.036, 0.967, 0.861],\n",
       "        [0.476, 0.124, 0.154],\n",
       "        [0.045, 0.268, 0.368],\n",
       "        [0.993, 0.139, 0.307],\n",
       "        [0.453, 0.074, 0.414],\n",
       "        [0.575, 0.961, 0.073],\n",
       "        [0.573, 0.013, 0.988],\n",
       "        [0.885, 0.148, 0.807],\n",
       "        [0.783, 0.512, 0.319],\n",
       "        [0.827, 0.4  , 0.844]],\n",
       "\n",
       "       [[0.41 , 0.374, 0.999],\n",
       "        [0.184, 0.204, 0.408],\n",
       "        [0.707, 0.769, 0.221],\n",
       "        [0.261, 0.076, 0.796],\n",
       "        [0.512, 0.625, 0.137],\n",
       "        [0.58 , 0.767, 0.906],\n",
       "        [0.405, 0.697, 0.756],\n",
       "        [0.422, 0.924, 0.15 ],\n",
       "        [0.857, 0.648, 0.884],\n",
       "        [0.755, 0.707, 0.103]],\n",
       "\n",
       "       [[0.426, 0.886, 1.   ],\n",
       "        [0.382, 0.966, 0.284],\n",
       "        [0.343, 0.49 , 0.927],\n",
       "        [0.512, 0.625, 0.137],\n",
       "        [0.14 , 0.935, 0.85 ],\n",
       "        [0.874, 0.871, 0.293],\n",
       "        [0.228, 0.487, 0.408],\n",
       "        [0.868, 0.422, 0.208],\n",
       "        [0.912, 0.145, 0.161],\n",
       "        [0.467, 0.997, 0.362]],\n",
       "\n",
       "       [[0.081, 0.94 , 0.57 ],\n",
       "        [0.645, 0.868, 0.87 ],\n",
       "        [0.912, 0.145, 0.161],\n",
       "        [0.14 , 0.935, 0.85 ],\n",
       "        [0.874, 0.871, 0.293],\n",
       "        [0.947, 0.734, 0.233],\n",
       "        [0.932, 0.449, 0.601],\n",
       "        [0.067, 0.292, 0.437],\n",
       "        [0.489, 0.987, 0.236],\n",
       "        [0.883, 0.451, 0.854]],\n",
       "\n",
       "       [[0.757, 0.598, 0.354],\n",
       "        [0.082, 0.737, 0.576],\n",
       "        [0.269, 0.634, 0.611],\n",
       "        [0.58 , 0.793, 0.069],\n",
       "        [0.947, 0.734, 0.233],\n",
       "        [0.951, 0.897, 0.728],\n",
       "        [0.349, 0.087, 0.26 ],\n",
       "        [0.58 , 0.793, 0.069],\n",
       "        [0.777, 0.45 , 0.57 ],\n",
       "        [0.317, 0.012, 0.179]],\n",
       "\n",
       "       [[0.608, 0.131, 0.966],\n",
       "        [0.74 , 0.877, 0.352],\n",
       "        [0.497, 0.93 , 0.235],\n",
       "        [0.742, 0.896, 0.599],\n",
       "        [0.927, 0.427, 0.157],\n",
       "        [0.006, 0.743, 0.778],\n",
       "        [0.574, 0.797, 0.021],\n",
       "        [0.476, 0.336, 0.122],\n",
       "        [0.226, 0.46 , 0.362],\n",
       "        [0.441, 0.152, 0.474]],\n",
       "\n",
       "       [[0.81 , 0.18 , 0.675],\n",
       "        [0.244, 0.495, 0.186],\n",
       "        [0.903, 0.42 , 0.748],\n",
       "        [0.678, 1.   , 0.271],\n",
       "        [0.708, 0.582, 0.656],\n",
       "        [0.327, 0.907, 0.042],\n",
       "        [0.937, 0.087, 0.264],\n",
       "        [0.296, 0.829, 0.397],\n",
       "        [0.637, 0.419, 0.837],\n",
       "        [0.426, 0.664, 0.601]],\n",
       "\n",
       "       [[0.788, 0.647, 0.898],\n",
       "        [0.347, 0.305, 0.971],\n",
       "        [0.442, 0.154, 0.642],\n",
       "        [0.067, 0.6  , 0.633],\n",
       "        [0.193, 0.001, 0.016],\n",
       "        [0.052, 0.209, 0.507],\n",
       "        [0.825, 0.023, 0.265],\n",
       "        [0.994, 0.79 , 0.854],\n",
       "        [0.434, 0.73 , 0.072],\n",
       "        [0.636, 0.247, 0.253]],\n",
       "\n",
       "       [[0.348, 0.292, 0.051],\n",
       "        [0.388, 0.798, 0.425],\n",
       "        [0.777, 0.233, 0.692],\n",
       "        [0.163, 0.031, 0.896],\n",
       "        [0.309, 0.141, 0.985],\n",
       "        [0.801, 0.779, 0.893],\n",
       "        [0.082, 0.975, 0.177],\n",
       "        [0.816, 0.943, 0.432],\n",
       "        [0.833, 0.043, 0.435],\n",
       "        [0.793, 0.35 , 0.793]],\n",
       "\n",
       "       [[0.47 , 0.397, 0.036],\n",
       "        [0.637, 0.869, 0.193],\n",
       "        [0.779, 0.171, 0.719],\n",
       "        [0.379, 0.728, 0.972],\n",
       "        [0.096, 0.125, 0.497],\n",
       "        [0.343, 0.49 , 0.927],\n",
       "        [0.363, 0.737, 0.201],\n",
       "        [0.19 , 0.387, 0.871],\n",
       "        [0.3  , 0.06 , 0.905],\n",
       "        [0.929, 0.946, 0.709]]])"
      ]
     },
     "execution_count": 78,
     "metadata": {},
     "output_type": "execute_result"
    }
   ],
   "source": [
    "image = np.random.rand(10, 10, 3)\n",
    "\n",
    "mask = np.array([[1, 1, 1, 1, 1, 1, 1, 1, 1, 1],\n",
    "                 [1, 1, 1, 1, 1, 1, 1, 1, 1, 1],\n",
    "                 [1, 1, 0, 0, 1, 1, 1, 1, 1, 1],\n",
    "                 [1, 1, 0, 0, 0, 1, 1, 1, 1, 1],\n",
    "                 [1, 1, 1, 0, 0, 1, 1, 1, 1, 1],\n",
    "                 [1, 1, 1, 1, 1, 1, 1, 1, 1, 1],\n",
    "                 [1, 1, 1, 1, 1, 1, 1, 1, 1, 1],\n",
    "                 [1, 1, 1, 1, 1, 1, 1, 1, 1, 1],\n",
    "                 [1, 1, 1, 1, 1, 1, 1, 1, 1, 1],\n",
    "                 [1, 1, 1, 1, 1, 1, 1, 1, 1, 1],\n",
    "                ])\n",
    "\n",
    "patch_size = 3\n",
    "\n",
    "inpaint(image, mask, 3)"
   ]
  },
  {
   "cell_type": "code",
   "execution_count": null,
   "metadata": {},
   "outputs": [],
   "source": []
  }
 ],
 "metadata": {
  "kernelspec": {
   "display_name": "Python 3",
   "language": "python",
   "name": "python3"
  },
  "language_info": {
   "codemirror_mode": {
    "name": "ipython",
    "version": 3
   },
   "file_extension": ".py",
   "mimetype": "text/x-python",
   "name": "python",
   "nbconvert_exporter": "python",
   "pygments_lexer": "ipython3",
   "version": "3.7.6"
  }
 },
 "nbformat": 4,
 "nbformat_minor": 4
}
