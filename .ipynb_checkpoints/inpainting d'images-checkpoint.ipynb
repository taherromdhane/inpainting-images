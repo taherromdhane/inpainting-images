{
 "cells": [
  {
   "cell_type": "markdown",
   "metadata": {},
   "source": [
    "## Importing libraries"
   ]
  },
  {
   "cell_type": "code",
   "execution_count": 4,
   "metadata": {},
   "outputs": [],
   "source": [
    "import numpy as np"
   ]
  },
  {
   "cell_type": "markdown",
   "metadata": {},
   "source": [
    "## Normalize"
   ]
  },
  {
   "cell_type": "code",
   "execution_count": null,
   "metadata": {},
   "outputs": [],
   "source": [
    "def normalize(image) :\n",
    "    return image/np.max(image)"
   ]
  },
  {
   "cell_type": "markdown",
   "metadata": {},
   "source": [
    "## Get border pixels"
   ]
  },
  {
   "cell_type": "code",
   "execution_count": 1,
   "metadata": {},
   "outputs": [],
   "source": [
    "def isBorderPixel(n, m, mask) :\n",
    "    # function that takes a pixel position (n, m) and a mask as input and returns\n",
    "    # wether the pixel in that position is a border pixel or not\n",
    "    \n",
    "    if mask[n][m] == 0 :\n",
    "        return False\n",
    "    \n",
    "    for i in range(-1, 2) :\n",
    "        for j in range(-1, 2) :\n",
    "            if i == 0 and j == 0 or n+i<0 or m+j<0:\n",
    "                continue\n",
    "            try :\n",
    "                if mask[n + i][m + j] == 0 :\n",
    "                    return True\n",
    "            except IndexError :\n",
    "                continue\n",
    "                \n",
    "    return False"
   ]
  },
  {
   "cell_type": "code",
   "execution_count": 2,
   "metadata": {},
   "outputs": [],
   "source": [
    "def getBorderPx(mask) :\n",
    "    border_pxls = set()\n",
    "    \n",
    "    for i in range(mask.shape[0]) :\n",
    "        for j in range(mask.shape[1]) :\n",
    "            if isBorderPixel(i, j, mask) :\n",
    "                border_pxls.add((i, j))\n",
    "    \n",
    "    return border_pxls"
   ]
  },
  {
   "cell_type": "code",
   "execution_count": 5,
   "metadata": {},
   "outputs": [],
   "source": [
    "mask = np.array([[1, 1, 1, 1, 1],\n",
    "                 [1, 1, 0, 1, 0],\n",
    "                 [1, 0, 0, 0, 0],\n",
    "                 [1, 1, 0, 0, 1],\n",
    "                 [1, 1, 1, 1, 1]\n",
    "                ])"
   ]
  },
  {
   "cell_type": "code",
   "execution_count": 50,
   "metadata": {
    "scrolled": false
   },
   "outputs": [
    {
     "data": {
      "text/plain": [
       "{(0, 1),\n",
       " (0, 2),\n",
       " (0, 3),\n",
       " (0, 4),\n",
       " (1, 0),\n",
       " (1, 1),\n",
       " (1, 3),\n",
       " (2, 0),\n",
       " (3, 0),\n",
       " (3, 1),\n",
       " (3, 4),\n",
       " (4, 1),\n",
       " (4, 2),\n",
       " (4, 3),\n",
       " (4, 4)}"
      ]
     },
     "execution_count": 50,
     "metadata": {},
     "output_type": "execute_result"
    }
   ],
   "source": [
    "getBorderPx(mask)"
   ]
  },
  {
   "cell_type": "markdown",
   "metadata": {},
   "source": [
    "## Calculate priorities"
   ]
  },
  {
   "cell_type": "code",
   "execution_count": 11,
   "metadata": {},
   "outputs": [],
   "source": [
    "def patchConfidence(center, confidence, mask, patch_size) :\n",
    "    \n",
    "    i, j = center\n",
    "    offset = patch_size//2\n",
    "    \n",
    "    return np.sum(confidence[i - offset : i + offset + 1, j - offset : j + offset + 1]) / patch_size**2"
   ]
  },
  {
   "cell_type": "code",
   "execution_count": 12,
   "metadata": {},
   "outputs": [
    {
     "name": "stdout",
     "output_type": "stream",
     "text": [
      "[[1 1 1]\n",
      " [1 0 0]\n",
      " [0 0 0]]\n"
     ]
    },
    {
     "data": {
      "text/plain": [
       "0.4444444444444444"
      ]
     },
     "execution_count": 12,
     "metadata": {},
     "output_type": "execute_result"
    }
   ],
   "source": [
    "mask = np.array([[1, 1, 1, 1],\n",
    "                 [1, 0, 0, 0],\n",
    "                 [0, 0, 0, 0],\n",
    "                 [0, 0, 0, 0]\n",
    "                 ])\n",
    "center = (1, 1)\n",
    "confidence = np.copy(mask)\n",
    "patch_size = 3\n",
    "\n",
    "patchConfidence(center, confidence, mask, patch_size)"
   ]
  },
  {
   "cell_type": "code",
   "execution_count": null,
   "metadata": {},
   "outputs": [],
   "source": [
    "def patchData(center, image, mask, alpha) :\n",
    "    return 1"
   ]
  },
  {
   "cell_type": "code",
   "execution_count": null,
   "metadata": {},
   "outputs": [],
   "source": [
    "def calculatePriorities(border_pxls, confidence, image, mask, alpha, patch_size) :\n",
    "    \n",
    "    Pp = np.zeros(image.shape)\n",
    "    \n",
    "    for pixel in border_pxls :\n",
    "        \n",
    "        # todo : exclude pixels on border of image\n",
    "        \n",
    "        Cp = patchConfidence(pixel, confidence, mask, patch_size)\n",
    "        Dp = patchData(pixel, image, mask, alpha)\n",
    "\n",
    "        Pp[pixel[0], pixel[1]] = Cp * Dp # Pp to change into matrix\n",
    "            \n",
    "    return Pp"
   ]
  },
  {
   "cell_type": "markdown",
   "metadata": {},
   "source": [
    "## Get max priority"
   ]
  },
  {
   "cell_type": "code",
   "execution_count": 14,
   "metadata": {},
   "outputs": [],
   "source": [
    "def getMaxPriority(Pp) :\n",
    "    return np.unravel_index(np.argmax(Pp, axis=None), Pp.shape)"
   ]
  },
  {
   "cell_type": "code",
   "execution_count": 16,
   "metadata": {},
   "outputs": [
    {
     "data": {
      "text/plain": [
       "(2, 2)"
      ]
     },
     "execution_count": 16,
     "metadata": {},
     "output_type": "execute_result"
    }
   ],
   "source": [
    "Pp = np.array([[1, 1, 1, 1, 1],\n",
    "               [1, 3, 1, 4, 1],\n",
    "               [1, 2, 5, 0, 1],\n",
    "               [1, 1, 1, 1, 1],\n",
    "               [1, 1, 1, 1, 1]])\n",
    "\n",
    "getMaxPriority(Pp)"
   ]
  },
  {
   "cell_type": "markdown",
   "metadata": {},
   "source": [
    "## Get optimal patch"
   ]
  },
  {
   "cell_type": "code",
   "execution_count": 26,
   "metadata": {},
   "outputs": [],
   "source": [
    "def distance(target_patch, candidate_patch, mask_patch) :\n",
    "     \n",
    "#     print((target_patch - candidate_patch) * mask_patch)  \n",
    "#     print(((target_patch - candidate_patch) * mask_patch) ** 2)\n",
    "    \n",
    "    return np.sum(((target_patch - candidate_patch) * mask_patch) ** 2) / np.sum(mask)"
   ]
  },
  {
   "cell_type": "code",
   "execution_count": 27,
   "metadata": {},
   "outputs": [
    {
     "data": {
      "text/plain": [
       "0.030000000000000016"
      ]
     },
     "execution_count": 27,
     "metadata": {},
     "output_type": "execute_result"
    }
   ],
   "source": [
    "target_patch = np.array([[[0.2, 0.3, 0.1], [0.2, 0.3, 0.1], [0.2, 0.3, 0.1]],\n",
    "                         [[0.2, 0.3, 0.1], [0.2, 0.3, 0.1], [0.2, 0.3, 0.1]],\n",
    "                         [[0.2, 0.3, 0.1], [0.2, 0.3, 0.1], [0.2, 0.3, 0.1]]\n",
    "                        ])\n",
    "\n",
    "candidate_patch = np.array([[[0.1, 0.4, 0.2], [0.1, 0.4, 0.2], [0.1, 0.4, 0.2]],\n",
    "                           [[0.1, 0.4, 0.2], [0.1, 0.4, 0.2], [0.1, 0.4, 0.2]],\n",
    "                           [[0.1, 0.4, 0.2], [0.1, 0.4, 0.2], [0.1, 0.4, 0.2]]\n",
    "                          ])\n",
    "\n",
    "mask_patch = np.array([[1, 1, 1],\n",
    "                       [1, 1, 0],\n",
    "                       [0, 0, 0]])\n",
    "\n",
    "distance(target_patch, candidate_patch, mask_patch)"
   ]
  },
  {
   "cell_type": "code",
   "execution_count": null,
   "metadata": {},
   "outputs": [],
   "source": [
    "def getOptimalPatch(image, mask, target_patch, patch_size, local_radius = None) :\n",
    "    \n",
    "    n, m = target_patch\n",
    "    \n",
    "    offset = patch_size//2\n",
    "    \n",
    "    if local_radius :\n",
    "        upper_i = min(n + local_radius, image.shape[0] - offset - 1)\n",
    "        lower_i = max(n - local_radius, offset)\n",
    "        upper_j = min(m + local_radius, image.shape[1] - offset - 1)\n",
    "        lower_j = max(m - local_radius, offset)\n",
    "    else :\n",
    "        upper_i = image.shape[0] - offset - 1\n",
    "        lower_i = offset\n",
    "        upper_j = image.shape[1] - offset - 1\n",
    "        lower_j = offset\n",
    "    \n",
    "    optimal_patch = (0, 0)\n",
    "    optimal_distance = 1e9\n",
    "    \n",
    "    for i in range(lower_i, upper_i + 1) :\n",
    "        for j in range(lower_j, upper_j + 1) :\n",
    "            \n",
    "            target_patch = image[n - offset : n + offset + 1, m - offset : m + offset + 1, :]\n",
    "            candidate_patch = image[i - offset : i + offset + 1, j - offset : j + offset + 1, :]\n",
    "            mask_patch = mask[n - offset : n + offset + 1, m - offset : m + offset + 1, :]\n",
    "            \n",
    "            current_distance = distance(target_patch, candidate_patch, mask_patch)\n",
    "            \n",
    "            if current_distance < optimal_distance :\n",
    "                optimal_patch = (i, j)\n",
    "                optimal_distance = current_distance\n",
    "    \n",
    "    return optimal_patch"
   ]
  },
  {
   "cell_type": "markdown",
   "metadata": {},
   "source": [
    "## Update confidence"
   ]
  },
  {
   "cell_type": "code",
   "execution_count": null,
   "metadata": {},
   "outputs": [],
   "source": [
    "def update_confidence(confidence, patch, mask) :\n",
    "    return True"
   ]
  },
  {
   "cell_type": "markdown",
   "metadata": {},
   "source": [
    "## Fill patch"
   ]
  },
  {
   "cell_type": "code",
   "execution_count": null,
   "metadata": {},
   "outputs": [],
   "source": [
    "def fill_patch(image, mask, patch, opt_patch, patch_size) :\n",
    "    return True"
   ]
  },
  {
   "cell_type": "markdown",
   "metadata": {},
   "source": [
    "## Inpainting"
   ]
  },
  {
   "cell_type": "code",
   "execution_count": null,
   "metadata": {},
   "outputs": [],
   "source": [
    "def inpaint(image, mask, patch_size) :\n",
    "    \n",
    "    # assert patch_size is an odd number\n",
    "    assert(patch_size%2 == 1)\n",
    "    \n",
    "    confidence = np.copy(maesk)\n",
    "    image = normalize(image)\n",
    "    \n",
    "    # change to identify border, then calculate priorities\n",
    "    while True :\n",
    "        \n",
    "        border_pxls = get_border_px(mask)\n",
    "        if len(border_pxls) == 0 :\n",
    "            break\n",
    "            \n",
    "        Pp = calculate_priorities(border_pxls, confidence, image, mask, alpha, patch_size)\n",
    "        \n",
    "        target_patch = get_max_priority(Pp)\n",
    "\n",
    "        opt_patch = get_opt_patch(image, mask, target_patch, patch_size)\n",
    "\n",
    "        confidence = update_confidence(confidence, target_patch, mask)\n",
    "\n",
    "        image, mask = fill_patch(image, mask, target_patch, opt_patch, patch_size)\n",
    "        \n",
    "    return image"
   ]
  }
 ],
 "metadata": {
  "kernelspec": {
   "display_name": "Python 3",
   "language": "python",
   "name": "python3"
  },
  "language_info": {
   "codemirror_mode": {
    "name": "ipython",
    "version": 3
   },
   "file_extension": ".py",
   "mimetype": "text/x-python",
   "name": "python",
   "nbconvert_exporter": "python",
   "pygments_lexer": "ipython3",
   "version": "3.7.6"
  }
 },
 "nbformat": 4,
 "nbformat_minor": 4
}
