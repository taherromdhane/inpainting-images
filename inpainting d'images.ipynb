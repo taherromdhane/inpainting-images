{
 "cells": [
  {
   "cell_type": "markdown",
   "metadata": {},
   "source": [
    "## Importing libraries"
   ]
  },
  {
   "cell_type": "code",
   "execution_count": null,
   "metadata": {},
   "outputs": [],
   "source": [
    "import numpy as np"
   ]
  },
  {
   "cell_type": "markdown",
   "metadata": {},
   "source": [
    "## Normalize"
   ]
  },
  {
   "cell_type": "code",
   "execution_count": null,
   "metadata": {},
   "outputs": [],
   "source": [
    "def normalize(image) :\n",
    "    return image/np.max(image)"
   ]
  },
  {
   "cell_type": "markdown",
   "metadata": {},
   "source": [
    "## Get border pixels"
   ]
  },
  {
   "cell_type": "code",
   "execution_count": null,
   "metadata": {},
   "outputs": [],
   "source": [
    "def boder_pixel(i, j, mask) :\n",
    "    return True"
   ]
  },
  {
   "cell_type": "code",
   "execution_count": null,
   "metadata": {},
   "outputs": [],
   "source": [
    "def get_border_px(mask) :\n",
    "    border_pxls = []\n",
    "    \n",
    "    for i in range(image.shape[0]) :\n",
    "        for j in range(image.shape[1]) :\n",
    "            if border_pixel(i, j, mask) :\n",
    "                border_pxls.append((i, j))\n",
    "    \n",
    "    return boder_pxls"
   ]
  },
  {
   "cell_type": "markdown",
   "metadata": {},
   "source": [
    "## Calculate priorities"
   ]
  },
  {
   "cell_type": "code",
   "execution_count": null,
   "metadata": {},
   "outputs": [],
   "source": [
    "def patch_confidence(center, confidence, mask, patch_size) :\n",
    "    return True"
   ]
  },
  {
   "cell_type": "code",
   "execution_count": null,
   "metadata": {},
   "outputs": [],
   "source": [
    "def patch_data(center, image, mask, alpha) :\n",
    "    return True"
   ]
  },
  {
   "cell_type": "code",
   "execution_count": null,
   "metadata": {},
   "outputs": [],
   "source": [
    "def calculate_priorities(border_pxls, confidence, image, mask, alpha, patch_size) :\n",
    "    \n",
    "    for center in border_pxls :\n",
    "    \n",
    "        Cp = patch_confidence(center, confidence, mask, patch_size)\n",
    "        Dp = patch_data(center, image, mask, alpha)\n",
    "\n",
    "        Pp[center[0], center[1]] = Cp * Dp # Pp to change into matrix\n",
    "            \n",
    "    return Pp"
   ]
  },
  {
   "cell_type": "markdown",
   "metadata": {},
   "source": [
    "## Get max priority"
   ]
  },
  {
   "cell_type": "code",
   "execution_count": null,
   "metadata": {},
   "outputs": [],
   "source": [
    "def get_max_priority(Pp) :\n",
    "    return np.unravel_index(np.argmax(Pp, axis=None), Pp.shape)"
   ]
  },
  {
   "cell_type": "markdown",
   "metadata": {},
   "source": [
    "## Get optimal patch"
   ]
  },
  {
   "cell_type": "code",
   "execution_count": null,
   "metadata": {},
   "outputs": [],
   "source": [
    "def get_opt_patch(image, mask, patch, patch_size) :\n",
    "    return True"
   ]
  },
  {
   "cell_type": "markdown",
   "metadata": {},
   "source": [
    "## Update confidence"
   ]
  },
  {
   "cell_type": "code",
   "execution_count": null,
   "metadata": {},
   "outputs": [],
   "source": [
    "def update_confidence(confidence, patch, mask) :\n",
    "    return True"
   ]
  },
  {
   "cell_type": "markdown",
   "metadata": {},
   "source": [
    "## Fill patch"
   ]
  },
  {
   "cell_type": "code",
   "execution_count": null,
   "metadata": {},
   "outputs": [],
   "source": [
    "def fill_patch(image, mask, patch, opt_patch, patch_size) :\n",
    "    return True"
   ]
  },
  {
   "cell_type": "markdown",
   "metadata": {},
   "source": [
    "## Inpainting"
   ]
  },
  {
   "cell_type": "code",
   "execution_count": null,
   "metadata": {},
   "outputs": [],
   "source": [
    "def inpaint(image, mask, patch_size) :\n",
    "    confidence = np.copy(mask)\n",
    "    image = normalize(image)\n",
    "    \n",
    "    # change to identify border, then calculate priorities\n",
    "    while True :\n",
    "        \n",
    "        border_pxls = get_border_px(mask)\n",
    "        if len(border_pxls) == 0 :\n",
    "            break\n",
    "            \n",
    "        Pp = calculate_priorities(border_pxls, confidence, image, mask, alpha, patch_size)\n",
    "        \n",
    "        patch = get_max_priority(Pp)\n",
    "\n",
    "        opt_patch = get_opt_patch(image, mask, patch, patch_size)\n",
    "\n",
    "        confidence = update_confidence(confidence, patch, mask)\n",
    "\n",
    "        image, mask = fill_patch(image, mask, patch, opt_patch, patch_size)\n",
    "        \n",
    "    return image"
   ]
  }
 ],
 "metadata": {
  "kernelspec": {
   "display_name": "Python 3",
   "language": "python",
   "name": "python3"
  },
  "language_info": {
   "codemirror_mode": {
    "name": "ipython",
    "version": 3
   },
   "file_extension": ".py",
   "mimetype": "text/x-python",
   "name": "python",
   "nbconvert_exporter": "python",
   "pygments_lexer": "ipython3",
   "version": "3.7.6"
  }
 },
 "nbformat": 4,
 "nbformat_minor": 4
}
